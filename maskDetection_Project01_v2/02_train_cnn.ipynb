{
 "cells": [
  {
   "cell_type": "code",
   "execution_count": 1,
   "metadata": {},
   "outputs": [],
   "source": [
    "#loading preprocessed data\n",
    "import numpy as np\n",
    "import os\n",
    "import cv2\n",
    "import gc"
   ]
  },
  {
   "cell_type": "code",
   "execution_count": 2,
   "metadata": {},
   "outputs": [],
   "source": [
    "#loading\n",
    "data = np.load('./Dataset/data_preprocess.npz')"
   ]
  },
  {
   "cell_type": "code",
   "execution_count": 3,
   "metadata": {},
   "outputs": [],
   "source": [
    "x = data['arr_0']\n",
    "y = data['arr_1']\n",
    "\n",
    "#approxtime 4m17.4s"
   ]
  },
  {
   "cell_type": "code",
   "execution_count": 4,
   "metadata": {},
   "outputs": [
    {
     "data": {
      "text/plain": [
       "((134097, 100, 100, 3), (134097,))"
      ]
     },
     "execution_count": 4,
     "metadata": {},
     "output_type": "execute_result"
    }
   ],
   "source": [
    "x.shape, y.shape"
   ]
  },
  {
   "cell_type": "code",
   "execution_count": 5,
   "metadata": {},
   "outputs": [
    {
     "data": {
      "text/plain": [
       "array(['Mask', 'Mask_Chin', 'Mask_Mouth_Chin', 'Mask_Nose_Mouth',\n",
       "       'No_Mask'], dtype='<U15')"
      ]
     },
     "execution_count": 5,
     "metadata": {},
     "output_type": "execute_result"
    }
   ],
   "source": [
    "np.unique(y)"
   ]
  },
  {
   "cell_type": "code",
   "execution_count": 6,
   "metadata": {},
   "outputs": [],
   "source": [
    "#processing y\n",
    "from sklearn.preprocessing import OneHotEncoder          #used to convert data into one-hot encoding format"
   ]
  },
  {
   "cell_type": "code",
   "execution_count": 7,
   "metadata": {},
   "outputs": [],
   "source": [
    "onehot = OneHotEncoder()\n",
    "y_onehot = onehot.fit_transform(y.reshape(-1,1))     #our array is in 1D format we need to convert it to 2D so we use reshape(-1,1) converting that to coloum metrix"
   ]
  },
  {
   "cell_type": "code",
   "execution_count": 8,
   "metadata": {},
   "outputs": [],
   "source": [
    "#y_onehot   #checkstatment #o/p is in form : 133097x4   4 coloums are there we need to convert it to array we use toarray()\n",
    "y_array = y_onehot.toarray()"
   ]
  },
  {
   "cell_type": "code",
   "execution_count": 9,
   "metadata": {},
   "outputs": [
    {
     "data": {
      "text/plain": [
       "array([[1., 0., 0., 0., 0.],\n",
       "       [1., 0., 0., 0., 0.],\n",
       "       [1., 0., 0., 0., 0.],\n",
       "       ...,\n",
       "       [0., 0., 0., 0., 1.],\n",
       "       [0., 0., 0., 0., 1.],\n",
       "       [0., 0., 0., 0., 1.]])"
      ]
     },
     "execution_count": 9,
     "metadata": {},
     "output_type": "execute_result"
    }
   ],
   "source": [
    "#y_array.shape    #o/p (133097, 2)\n",
    "y_array"
   ]
  },
  {
   "cell_type": "code",
   "execution_count": 10,
   "metadata": {},
   "outputs": [],
   "source": [
    "#spliting data into train and test\n",
    "from sklearn.model_selection import train_test_split\n",
    "x_train, x_test, y_train, y_test = train_test_split(x, y_array,test_size=0.2,random_state=42)      #approx 72min 39.2sec"
   ]
  },
  {
   "cell_type": "code",
   "execution_count": 11,
   "metadata": {},
   "outputs": [
    {
     "data": {
      "text/plain": [
       "((107277, 100, 100, 3), (26820, 100, 100, 3), (107277, 5), (26820, 5))"
      ]
     },
     "execution_count": 11,
     "metadata": {},
     "output_type": "execute_result"
    }
   ],
   "source": [
    "x_train.shape, x_test.shape, y_train.shape, y_test.shape               #checkstatment"
   ]
  },
  {
   "cell_type": "code",
   "execution_count": 12,
   "metadata": {},
   "outputs": [],
   "source": [
    "#deep learning model\n",
    "import tensorflow as tf\n",
    "from tensorflow.keras import layers\n",
    "from tensorflow.keras import Sequential\n",
    "#approxtime 3m 42.9s"
   ]
  },
  {
   "cell_type": "code",
   "execution_count": 17,
   "metadata": {},
   "outputs": [],
   "source": [
    "#CNN code\n",
    "model = Sequential([                     #layers_follows_in_order\n",
    "    layers.Conv2D(16,3,padding='same',input_shape=(100,100,3),activation='relu'),\n",
    "    layers.MaxPool2D(),\n",
    "    layers.Conv2D(32,3,padding='same',activation='relu'),\n",
    "    layers.MaxPool2D(),\n",
    "    layers.Conv2D(64,3,padding='same',activation='relu'),\n",
    "    layers.MaxPool2D(),\n",
    "    layers.Flatten(),\n",
    "    layers.Dense(192,activation='relu'),\n",
    "    layers.Dense(28,activation='relu'),\n",
    "    layers.Dense(5,activation='sigmoid')\n",
    "])\n",
    "\n",
    "#compiling cnn model\n",
    "model.compile(optimizer=tf.keras.optimizers.Adam(learning_rate=0.001),loss=tf.keras.losses.categorical_crossentropy,metrics=['accuracy'])\n"
   ]
  },
  {
   "cell_type": "code",
   "execution_count": 18,
   "metadata": {},
   "outputs": [
    {
     "name": "stdout",
     "output_type": "stream",
     "text": [
      "Model: \"sequential_2\"\n",
      "_________________________________________________________________\n",
      " Layer (type)                Output Shape              Param #   \n",
      "=================================================================\n",
      " conv2d_6 (Conv2D)           (None, 100, 100, 16)      448       \n",
      "                                                                 \n",
      " max_pooling2d_6 (MaxPooling  (None, 50, 50, 16)       0         \n",
      " 2D)                                                             \n",
      "                                                                 \n",
      " conv2d_7 (Conv2D)           (None, 50, 50, 32)        4640      \n",
      "                                                                 \n",
      " max_pooling2d_7 (MaxPooling  (None, 25, 25, 32)       0         \n",
      " 2D)                                                             \n",
      "                                                                 \n",
      " conv2d_8 (Conv2D)           (None, 25, 25, 64)        18496     \n",
      "                                                                 \n",
      " max_pooling2d_8 (MaxPooling  (None, 12, 12, 64)       0         \n",
      " 2D)                                                             \n",
      "                                                                 \n",
      " flatten_2 (Flatten)         (None, 9216)              0         \n",
      "                                                                 \n",
      " dense_6 (Dense)             (None, 192)               1769664   \n",
      "                                                                 \n",
      " dense_7 (Dense)             (None, 28)                5404      \n",
      "                                                                 \n",
      " dense_8 (Dense)             (None, 5)                 145       \n",
      "                                                                 \n",
      "=================================================================\n",
      "Total params: 1,798,797\n",
      "Trainable params: 1,798,797\n",
      "Non-trainable params: 0\n",
      "_________________________________________________________________\n"
     ]
    }
   ],
   "source": [
    "model.summary()      #checkstatment"
   ]
  },
  {
   "cell_type": "code",
   "execution_count": 19,
   "metadata": {},
   "outputs": [
    {
     "name": "stdout",
     "output_type": "stream",
     "text": [
      "Epoch 1/10\n",
      "3576/3576 [==============================] - 1712s 477ms/step - loss: 0.0499 - accuracy: 0.9841 - val_loss: 0.0192 - val_accuracy: 0.9938\n",
      "Epoch 2/10\n",
      "3576/3576 [==============================] - 1447s 405ms/step - loss: 0.0174 - accuracy: 0.9944 - val_loss: 0.0141 - val_accuracy: 0.9957\n",
      "Epoch 3/10\n",
      "3576/3576 [==============================] - 1384s 386ms/step - loss: 0.0113 - accuracy: 0.9964 - val_loss: 0.0117 - val_accuracy: 0.9966\n",
      "Epoch 4/10\n",
      "3576/3576 [==============================] - 1403s 392ms/step - loss: 0.0081 - accuracy: 0.9974 - val_loss: 0.0170 - val_accuracy: 0.9957\n",
      "Epoch 5/10\n",
      "3576/3576 [==============================] - 1352s 378ms/step - loss: 0.0063 - accuracy: 0.9979 - val_loss: 0.0187 - val_accuracy: 0.9953\n",
      "Epoch 6/10\n",
      "3576/3576 [==============================] - 1385s 387ms/step - loss: 0.0055 - accuracy: 0.9984 - val_loss: 0.0266 - val_accuracy: 0.9936\n",
      "Epoch 7/10\n",
      "3576/3576 [==============================] - 1269s 354ms/step - loss: 0.0058 - accuracy: 0.9983 - val_loss: 0.0174 - val_accuracy: 0.9953\n",
      "Epoch 8/10\n",
      "3576/3576 [==============================] - 1141s 319ms/step - loss: 0.0038 - accuracy: 0.9987 - val_loss: 0.0219 - val_accuracy: 0.9964\n",
      "Epoch 9/10\n",
      "3576/3576 [==============================] - 1209s 338ms/step - loss: 0.0039 - accuracy: 0.9988 - val_loss: 0.0179 - val_accuracy: 0.9971\n",
      "Epoch 10/10\n",
      "3576/3576 [==============================] - 1082s 303ms/step - loss: 0.0034 - accuracy: 0.9989 - val_loss: 0.0210 - val_accuracy: 0.9970\n"
     ]
    }
   ],
   "source": [
    "#training cnn model\n",
    "history = model.fit(x=x_train,y=y_train,validation_data=(x_test,y_test),batch_size=30,epochs=10)       #approxtime 205min 32sec"
   ]
  },
  {
   "cell_type": "code",
   "execution_count": 20,
   "metadata": {},
   "outputs": [
    {
     "name": "stderr",
     "output_type": "stream",
     "text": [
      "Matplotlib is building the font cache; this may take a moment.\n"
     ]
    }
   ],
   "source": [
    "import pandas as pd\n",
    "import matplotlib.pyplot as plt"
   ]
  },
  {
   "cell_type": "code",
   "execution_count": 21,
   "metadata": {},
   "outputs": [],
   "source": [
    "history_df = pd.DataFrame(history.history)"
   ]
  },
  {
   "cell_type": "code",
   "execution_count": 22,
   "metadata": {},
   "outputs": [
    {
     "data": {
      "text/html": [
       "<div>\n",
       "<style scoped>\n",
       "    .dataframe tbody tr th:only-of-type {\n",
       "        vertical-align: middle;\n",
       "    }\n",
       "\n",
       "    .dataframe tbody tr th {\n",
       "        vertical-align: top;\n",
       "    }\n",
       "\n",
       "    .dataframe thead th {\n",
       "        text-align: right;\n",
       "    }\n",
       "</style>\n",
       "<table border=\"1\" class=\"dataframe\">\n",
       "  <thead>\n",
       "    <tr style=\"text-align: right;\">\n",
       "      <th></th>\n",
       "      <th>loss</th>\n",
       "      <th>accuracy</th>\n",
       "      <th>val_loss</th>\n",
       "      <th>val_accuracy</th>\n",
       "    </tr>\n",
       "  </thead>\n",
       "  <tbody>\n",
       "    <tr>\n",
       "      <th>0</th>\n",
       "      <td>0.049882</td>\n",
       "      <td>0.984144</td>\n",
       "      <td>0.019236</td>\n",
       "      <td>0.993848</td>\n",
       "    </tr>\n",
       "    <tr>\n",
       "      <th>1</th>\n",
       "      <td>0.017400</td>\n",
       "      <td>0.994370</td>\n",
       "      <td>0.014084</td>\n",
       "      <td>0.995675</td>\n",
       "    </tr>\n",
       "    <tr>\n",
       "      <th>2</th>\n",
       "      <td>0.011344</td>\n",
       "      <td>0.996365</td>\n",
       "      <td>0.011712</td>\n",
       "      <td>0.996570</td>\n",
       "    </tr>\n",
       "    <tr>\n",
       "      <th>3</th>\n",
       "      <td>0.008092</td>\n",
       "      <td>0.997427</td>\n",
       "      <td>0.016953</td>\n",
       "      <td>0.995675</td>\n",
       "    </tr>\n",
       "    <tr>\n",
       "      <th>4</th>\n",
       "      <td>0.006286</td>\n",
       "      <td>0.997912</td>\n",
       "      <td>0.018747</td>\n",
       "      <td>0.995265</td>\n",
       "    </tr>\n",
       "    <tr>\n",
       "      <th>5</th>\n",
       "      <td>0.005514</td>\n",
       "      <td>0.998387</td>\n",
       "      <td>0.026598</td>\n",
       "      <td>0.993587</td>\n",
       "    </tr>\n",
       "    <tr>\n",
       "      <th>6</th>\n",
       "      <td>0.005773</td>\n",
       "      <td>0.998331</td>\n",
       "      <td>0.017369</td>\n",
       "      <td>0.995265</td>\n",
       "    </tr>\n",
       "    <tr>\n",
       "      <th>7</th>\n",
       "      <td>0.003833</td>\n",
       "      <td>0.998723</td>\n",
       "      <td>0.021881</td>\n",
       "      <td>0.996383</td>\n",
       "    </tr>\n",
       "    <tr>\n",
       "      <th>8</th>\n",
       "      <td>0.003891</td>\n",
       "      <td>0.998835</td>\n",
       "      <td>0.017945</td>\n",
       "      <td>0.997129</td>\n",
       "    </tr>\n",
       "    <tr>\n",
       "      <th>9</th>\n",
       "      <td>0.003395</td>\n",
       "      <td>0.998947</td>\n",
       "      <td>0.021030</td>\n",
       "      <td>0.997017</td>\n",
       "    </tr>\n",
       "  </tbody>\n",
       "</table>\n",
       "</div>"
      ],
      "text/plain": [
       "       loss  accuracy  val_loss  val_accuracy\n",
       "0  0.049882  0.984144  0.019236      0.993848\n",
       "1  0.017400  0.994370  0.014084      0.995675\n",
       "2  0.011344  0.996365  0.011712      0.996570\n",
       "3  0.008092  0.997427  0.016953      0.995675\n",
       "4  0.006286  0.997912  0.018747      0.995265\n",
       "5  0.005514  0.998387  0.026598      0.993587\n",
       "6  0.005773  0.998331  0.017369      0.995265\n",
       "7  0.003833  0.998723  0.021881      0.996383\n",
       "8  0.003891  0.998835  0.017945      0.997129\n",
       "9  0.003395  0.998947  0.021030      0.997017"
      ]
     },
     "execution_count": 22,
     "metadata": {},
     "output_type": "execute_result"
    }
   ],
   "source": [
    "history_df         #checkstatment"
   ]
  },
  {
   "cell_type": "code",
   "execution_count": 23,
   "metadata": {},
   "outputs": [
    {
     "data": {
      "image/png": "[encoded data removed]",
      "text/plain": [
       "<Figure size 432x288 with 1 Axes>"
      ]
     },
     "metadata": {
      "needs_background": "light"
     },
     "output_type": "display_data"
    }
   ],
   "source": [
    "history_df[['loss','val_loss']].plot(kind='line')\n",
    "plt.xlabel('Epochs')\n",
    "plt.ylabel('Loss')\n",
    "plt.xticks(list(range(10)),list(range(1,11)))\n",
    "plt.show()"
   ]
  },
  {
   "cell_type": "code",
   "execution_count": 24,
   "metadata": {},
   "outputs": [
    {
     "data": {
      "image/png": "[encoded data removed]",
      "text/plain": [
       "<Figure size 432x288 with 1 Axes>"
      ]
     },
     "metadata": {
      "needs_background": "light"
     },
     "output_type": "display_data"
    }
   ],
   "source": [
    "history_df[['accuracy','val_accuracy']].plot(kind='line')\n",
    "plt.xlabel('Epochs')\n",
    "plt.ylabel('Accuracy')\n",
    "plt.xticks(list(range(10)),list(range(1,11)))\n",
    "plt.show()"
   ]
  },
  {
   "cell_type": "code",
   "execution_count": 26,
   "metadata": {},
   "outputs": [
    {
     "name": "stdout",
     "output_type": "stream",
     "text": [
      "INFO:tensorflow:Assets written to: face_cnn_model\\assets\n"
     ]
    }
   ],
   "source": [
    "#save CNN model\n",
    "model.save('face_cnn_model')"
   ]
  },
  {
   "cell_type": "code",
   "execution_count": 27,
   "metadata": {},
   "outputs": [
    {
     "data": {
      "text/plain": [
       "[array(['Mask', 'Mask_Chin', 'Mask_Mouth_Chin', 'Mask_Nose_Mouth',\n",
       "        'No_Mask'], dtype='<U15')]"
      ]
     },
     "execution_count": 27,
     "metadata": {},
     "output_type": "execute_result"
    }
   ],
   "source": [
    "onehot.categories_"
   ]
  }
 ],
 "metadata": {
  "kernelspec": {
   "display_name": "Python 3.10.4 64-bit",
   "language": "python",
   "name": "python3"
  },
  "language_info": {
   "codemirror_mode": {
    "name": "ipython",
    "version": 3
   },
   "file_extension": ".py",
   "mimetype": "text/x-python",
   "name": "python",
   "nbconvert_exporter": "python",
   "pygments_lexer": "ipython3",
   "version": "3.10.4"
  },
  "orig_nbformat": 4,
  "vscode": {
   "interpreter": {
    "hash": "18eec52fc56095477986479c382d68a0f1470788a37d50d8c146bb4f9cf6515d"
   }
  }
 },
 "nbformat": 4,
 "nbformat_minor": 2
}
