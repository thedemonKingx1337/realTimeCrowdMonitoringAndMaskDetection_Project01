{
 "cells": [
  {
   "cell_type": "code",
   "execution_count": 4,
   "metadata": {},
   "outputs": [],
   "source": [
    "import numpy as np\n",
    "import cv2\n",
    "import tensorflow as tf"
   ]
  },
  {
   "cell_type": "code",
   "execution_count": 5,
   "metadata": {},
   "outputs": [],
   "source": [
    "from scipy.special import softmax"
   ]
  },
  {
   "cell_type": "code",
   "execution_count": 6,
   "metadata": {},
   "outputs": [],
   "source": [
    "#face detection models\n",
    "face_detection_model = cv2.dnn.readNetFromCaffe('./models/deploy.prototxt.txt','./models/res10_300x300_ssd_iter_140000_fp16.caffemodel')\n",
    "#mask recognisation model\n",
    "model = tf.keras.models.load_model('face_cnn_model/') "
   ]
  },
  {
   "cell_type": "code",
   "execution_count": 7,
   "metadata": {},
   "outputs": [],
   "source": [
    "#labels\n",
    "labels = ['Covered Mask', 'No Mask','Covered Mouth & Chin','Covered Nose & Mouth']\n",
    "\n",
    "def getColor(label):\n",
    "\n",
    "    if label == 'Covered Mask':\n",
    "        color = [0,255,0]\n",
    "    elif label == 'No Mask':\n",
    "        color = [0,0,255] \n",
    "    elif label == 'Covered Mouth & Chin':\n",
    "        color = [0,255,255]\n",
    "    else:\n",
    "        color = [255,255,0]\n",
    "    return color    "
   ]
  },
  {
   "cell_type": "code",
   "execution_count": 6,
   "metadata": {},
   "outputs": [],
   "source": [
    "#getColor('Covered Mask')                #checkstatment\n",
    "#getColor('No Mask')                     #checkstatment\n",
    "#getColor('Covered Mouth & Chin')        #checkstatment\n",
    "#getColor('Covered Nose & Mouth')        #checkstatment"
   ]
  },
  {
   "cell_type": "code",
   "execution_count": 8,
   "metadata": {},
   "outputs": [],
   "source": [
    "\n",
    "\n",
    "def face_mask_prediction(img):\n",
    "    #1 - Face Detection\n",
    "\n",
    "    image = img.copy()\n",
    "    h,w = image.shape[:2] #taking first 2 value from image\n",
    "    blob = cv2.dnn.blobFromImage(image,1,(300,300),(104,117,123),swapRB=True)    #(image[,scalefactor[,size[,mean[,swapRB[,crop[,ddepth]]]]]])\n",
    "    #input to face detection model\n",
    "    face_detection_model.setInput(blob)\n",
    "    detection = face_detection_model.forward()   #it will give the detection the information are index no: 3to7\n",
    "    for i in range(0,detection.shape[2]):\n",
    "        confidence = detection[0,0,i,2]\n",
    "        if confidence > 0.5:\n",
    "            #print(confidence)               #checkstatment\n",
    "            box = detection[0,0,i,3:7]*np.array([w,h,w,h])     #values are in normalized form for denormalizing we multiply with width and height\n",
    "            box = box.astype(int)\n",
    "            pt1 = (box[0],box[1])\n",
    "            pt2 = (box[2],box[3])\n",
    "            #cv2.rectangle(image,pt1,pt2,(0,255,0),1)  #checkstatment\n",
    "\n",
    "\n",
    "            #2 - Data Processing\n",
    "\n",
    "            face = image[box[1]:box[3],box[0]:box[2]]  #croping the face by giving Y,X info\n",
    "            face_blob = cv2.dnn.blobFromImage(face,1,(100,100),(104,117,123),swapRB=True)         #(image[,scalefactor[,size[,mean[,swapRB[,crop[,ddepth]]]]]])\n",
    "            face_blob_squeeze = np.squeeze(face_blob).T    #o/p of blop is in 4D form so we need to squeeze it and transform it to get correct nonation\n",
    "            face_blob_rotate = cv2.rotate(face_blob_squeeze,cv2.ROTATE_90_CLOCKWISE ) #o/p image will be in 90degree anti-clock so we need to rotate 90 in anti clock wise\n",
    "            face_blob_flip = cv2.flip(face_blob_rotate,1)  #fli code is 1\n",
    "            #normalization \n",
    "            img_norm = np.maximum(face_blob_flip,0)/face_blob_flip.max()\n",
    "\n",
    "\n",
    "            #3 - Deep Learning(CNN)\n",
    "\n",
    "            #we can't directly pass this value to deep learning model coz deep learning model accept the values in 4D formate \n",
    "            \n",
    "            #print(img_input.shape) #o/p:(100,100,3) it's a 3D value    #checkstatment\n",
    "\n",
    "            img_input = img_norm.reshape(1,100,100,3)  #we need to do it for all images \n",
    "            result = model.predict(img_input)\n",
    "            #print(result)   #checkstatment\n",
    "            result = softmax(result)[0]\n",
    "            confidence_index = result.argmax() #now you can get the postion having the max value\n",
    "            #print(confidence_index)   #checkstatment\n",
    "            confidence_score = result[confidence_index] #now we will get the confidence score\n",
    "            label = labels[confidence_index]\n",
    "            label_text = '{}: {:,.0f}%'.format(label,confidence_score*100) # 1st {} is for label 2nd{} is for confidence score of the label and multipling confidence score*100 we get the value from 0-100 range \n",
    "                                                                        #this confidence score is flot value to convert to int we use    :,.0f\n",
    "\n",
    "            #print(label_text)   #checkstatment\n",
    "\n",
    "            #color\n",
    "            color = getColor(label)\n",
    "            cv2.rectangle(image,pt1,pt2,color,1)   #dynamically given the color \n",
    "            cv2.putText(image,label_text,pt1,cv2.FONT_HERSHEY_PLAIN,2,color,1) #(img, text, org, fontFace, fontScale, color[, thickness[, lineType[, bottomLeftOrigin]]])\n",
    "    return image\n",
    "\n",
    "\n",
    "\n",
    "#cv2.imshow('original image',img)                 #checkstatment\n",
    "#cv2.waitKey()                                    #checkstatment  \n",
    "#cv2.destroyAllWindows()                          #checkstatment\n",
    "\n"
   ]
  },
  {
   "cell_type": "code",
   "execution_count": 9,
   "metadata": {},
   "outputs": [],
   "source": [
    "#prediction for 1 image is done\n",
    "\n",
    "#recognition code\n",
    "img = cv2.imread('./women-wearing-mask.jpg')\n",
    "\n",
    "image = face_mask_prediction(img)\n",
    "\n",
    "\n",
    "cv2.imshow('predictions',image)\n",
    "cv2.waitKey()\n",
    "cv2.destroyAllWindows()\n",
    "\n",
    "\n",
    "\n",
    "\n",
    "#softmax(result)        #now you can notice sum of all the value is = 1\n",
    "#softmax(result).sum()  #checkstatment"
   ]
  },
  {
   "cell_type": "markdown",
   "metadata": {},
   "source": [
    "REAL TIME FACE MASK DETECTION "
   ]
  },
  {
   "cell_type": "code",
   "execution_count": 10,
   "metadata": {},
   "outputs": [
    {
     "ename": "AttributeError",
     "evalue": "'cv2.VideoCapture' object has no attribute 'realease'",
     "output_type": "error",
     "traceback": [
      "\u001b[1;31m---------------------------------------------------------------------------\u001b[0m",
      "\u001b[1;31mAttributeError\u001b[0m                            Traceback (most recent call last)",
      "\u001b[1;32md:\\pbcode_progming\\Project01_v2\\03_prediction.ipynb Cell 9'\u001b[0m in \u001b[0;36m<cell line: 10>\u001b[1;34m()\u001b[0m\n\u001b[0;32m      <a href='vscode-notebook-cell:/d%3A/pbcode_progming/Project01_v2/03_prediction.ipynb#ch0000008?line=7'>8</a>\u001b[0m     \u001b[39mif\u001b[39;00m cv2\u001b[39m.\u001b[39mwaitKey(\u001b[39m1\u001b[39m) \u001b[39m==\u001b[39m \u001b[39m27\u001b[39m: \u001b[39m#27 means if you press esc window will be closed\u001b[39;00m\n\u001b[0;32m      <a href='vscode-notebook-cell:/d%3A/pbcode_progming/Project01_v2/03_prediction.ipynb#ch0000008?line=8'>9</a>\u001b[0m         \u001b[39mbreak\u001b[39;00m\n\u001b[1;32m---> <a href='vscode-notebook-cell:/d%3A/pbcode_progming/Project01_v2/03_prediction.ipynb#ch0000008?line=9'>10</a>\u001b[0m cap\u001b[39m.\u001b[39;49mrealease()\n\u001b[0;32m     <a href='vscode-notebook-cell:/d%3A/pbcode_progming/Project01_v2/03_prediction.ipynb#ch0000008?line=10'>11</a>\u001b[0m \u001b[39m#cv2.namedWindow('FACE MASK PREDICTION',cv2.WINDOW_GUI_NORMAL)\u001b[39;00m\n\u001b[0;32m     <a href='vscode-notebook-cell:/d%3A/pbcode_progming/Project01_v2/03_prediction.ipynb#ch0000008?line=11'>12</a>\u001b[0m cv2\u001b[39m.\u001b[39mdestroyAllWindows()\n",
      "\u001b[1;31mAttributeError\u001b[0m: 'cv2.VideoCapture' object has no attribute 'realease'"
     ]
    }
   ],
   "source": [
    "cap = cv2.VideoCapture(0) #0 open the default web cam\n",
    "while True:\n",
    "    ret, frames = cap.read()\n",
    "    if ret == False:\n",
    "        break\n",
    "    image = face_mask_prediction(frames)\n",
    "    cv2.imshow('FACE MASK PREDICTION',image)\n",
    "    if cv2.waitKey(1) == 27: #27 means if you press esc window will be closed\n",
    "        break\n",
    "cap.realease()\n",
    "#cv2.namedWindow('FACE MASK PREDICTION',cv2.WINDOW_GUI_NORMAL)\n",
    "cv2.destroyAllWindows()    "
   ]
  }
 ],
 "metadata": {
  "interpreter": {
   "hash": "463f34afe228ea80ac8bccbadab93bd2290f97663d456252e2b1900e1e35e6ee"
  },
  "kernelspec": {
   "display_name": "Python 3 (ipykernel)",
   "language": "python",
   "name": "python3"
  },
  "language_info": {
   "codemirror_mode": {
    "name": "ipython",
    "version": 3
   },
   "file_extension": ".py",
   "mimetype": "text/x-python",
   "name": "python",
   "nbconvert_exporter": "python",
   "pygments_lexer": "ipython3",
   "version": "3.10.4"
  }
 },
 "nbformat": 4,
 "nbformat_minor": 2
}
